{
  "nbformat": 4,
  "nbformat_minor": 0,
  "metadata": {
    "colab": {
      "provenance": [],
      "collapsed_sections": [],
      "authorship_tag": "ABX9TyPUxoJR/GfkYrekk9QftKse",
      "include_colab_link": true
    },
    "kernelspec": {
      "name": "python3",
      "display_name": "Python 3"
    },
    "language_info": {
      "name": "python"
    }
  },
  "cells": [
    {
      "cell_type": "markdown",
      "metadata": {
        "id": "view-in-github",
        "colab_type": "text"
      },
      "source": [
        "<a href=\"https://colab.research.google.com/github/Jaskirat1/AIT_numpy/blob/main/2.ipynb\" target=\"_parent\"><img src=\"https://colab.research.google.com/assets/colab-badge.svg\" alt=\"Open In Colab\"/></a>"
      ]
    },
    {
      "cell_type": "markdown",
      "source": [
        "Intro to Numpy arrays \n"
      ],
      "metadata": {
        "id": "BHxeqyv9JfVG"
      }
    },
    {
      "cell_type": "code",
      "source": [
        "#**How to append an array in another array**\n",
        "\n",
        "import numpy as np\n",
        "arr1 = np.array([[1,2,3],[2,3,4]])\n",
        "arr2 = np.array([[4,5,6]])\n",
        "\n",
        "arr1= np.append(arr1,arr2, 0)\n",
        "print(arr1)"
      ],
      "metadata": {
        "colab": {
          "base_uri": "https://localhost:8080/"
        },
        "id": "4RjusevaJoZP",
        "outputId": "eb388ccb-9333-4dd1-8ce7-bc6199df73d6"
      },
      "execution_count": 2,
      "outputs": [
        {
          "output_type": "stream",
          "name": "stdout",
          "text": [
            "[[1 2 3]\n",
            " [2 3 4]\n",
            " [4 5 6]]\n"
          ]
        }
      ]
    },
    {
      "cell_type": "markdown",
      "source": [
        "Difference between ndmin and ndim"
      ],
      "metadata": {
        "id": "JoCDUN8BZtq2"
      }
    },
    {
      "cell_type": "code",
      "source": [
        "arr = np.array([1,2,3,4], ndmin = 5)\n",
        "print(arr)\n",
        "print(arr.ndim)\n",
        "\n"
      ],
      "metadata": {
        "colab": {
          "base_uri": "https://localhost:8080/"
        },
        "id": "Ci3Uhl-gX-Fh",
        "outputId": "5a8f7e6d-89f1-4953-f6e9-e515f6e3edaf"
      },
      "execution_count": 3,
      "outputs": [
        {
          "output_type": "stream",
          "name": "stdout",
          "text": [
            "[[[[[1 2 3 4]]]]]\n",
            "5\n"
          ]
        }
      ]
    },
    {
      "cell_type": "markdown",
      "source": [
        "Creating dimensional arrays"
      ],
      "metadata": {
        "id": "oOEGFuOXZzTY"
      }
    },
    {
      "cell_type": "code",
      "source": [
        "import numpy as np\n",
        "arr = np.array(5)   # 0-D array\n",
        "print(arr)\n",
        "print(arr.ndim)"
      ],
      "metadata": {
        "colab": {
          "base_uri": "https://localhost:8080/"
        },
        "id": "RGaHFH5KZ3m0",
        "outputId": "6e42aea2-08ec-4ff8-dc93-a8530f6c4180"
      },
      "execution_count": 4,
      "outputs": [
        {
          "output_type": "stream",
          "name": "stdout",
          "text": [
            "5\n",
            "0\n"
          ]
        }
      ]
    },
    {
      "cell_type": "code",
      "source": [
        "arr2 = np.array([1,2,4,45,6])\n",
        "print(arr2)       # 1-D array\n",
        "print(arr2.ndim)\n"
      ],
      "metadata": {
        "colab": {
          "base_uri": "https://localhost:8080/"
        },
        "id": "Chq5kaS4aAu8",
        "outputId": "b6e25660-8abf-44e9-d70d-ccf62ea37af7"
      },
      "execution_count": 5,
      "outputs": [
        {
          "output_type": "stream",
          "name": "stdout",
          "text": [
            "[ 1  2  4 45  6]\n",
            "1\n"
          ]
        }
      ]
    },
    {
      "cell_type": "code",
      "source": [
        "arr3 = np.array([[1,2,3],[2,3,4]])\n",
        "print(arr3)       # 2-D array\n",
        "print(arr3.ndim)"
      ],
      "metadata": {
        "colab": {
          "base_uri": "https://localhost:8080/"
        },
        "id": "uqB_uqJaaLUY",
        "outputId": "d204036f-0e89-43ee-87d2-8e80cc62605d"
      },
      "execution_count": 6,
      "outputs": [
        {
          "output_type": "stream",
          "name": "stdout",
          "text": [
            "[[1 2 3]\n",
            " [2 3 4]]\n",
            "2\n"
          ]
        }
      ]
    },
    {
      "cell_type": "code",
      "source": [
        "arr4 = np.array([\n",
        "    [\n",
        "    [1,2,3,4],\n",
        "    [5,6,7,8]\n",
        "     ],\n",
        "    [\n",
        "    [1,2,4,5],\n",
        "    [5,7,7,8]\n",
        "    ]\n",
        "])\n",
        "print(arr4)\n",
        "print(arr4.ndim)      # 3 -D array"
      ],
      "metadata": {
        "colab": {
          "base_uri": "https://localhost:8080/"
        },
        "id": "fopkX6MRaqNc",
        "outputId": "52cd3e3e-e8cf-429c-fe47-c0411e1e5b82"
      },
      "execution_count": 7,
      "outputs": [
        {
          "output_type": "stream",
          "name": "stdout",
          "text": [
            "[[[1 2 3 4]\n",
            "  [5 6 7 8]]\n",
            "\n",
            " [[1 2 4 5]\n",
            "  [5 7 7 8]]]\n",
            "3\n"
          ]
        }
      ]
    },
    {
      "cell_type": "code",
      "source": [
        "arr5 = np.array([[\n",
        "[\n",
        "    [1,2,3],\n",
        "    [4,5,6]\n",
        "],\n",
        "[\n",
        "    [4,6,7],\n",
        "    [6,7,8]\n",
        "],\n",
        "[\n",
        "    [6,7,8],\n",
        "    [9,2,4]\n",
        "],\n",
        "\n",
        "]\n",
        "])\n",
        "print(arr5)\n",
        "print(arr5.ndim)        # 4-D array"
      ],
      "metadata": {
        "colab": {
          "base_uri": "https://localhost:8080/"
        },
        "id": "JaHv5CdPbTah",
        "outputId": "cde173f5-383a-4257-d639-eefefb03d793"
      },
      "execution_count": 8,
      "outputs": [
        {
          "output_type": "stream",
          "name": "stdout",
          "text": [
            "[[[[1 2 3]\n",
            "   [4 5 6]]\n",
            "\n",
            "  [[4 6 7]\n",
            "   [6 7 8]]\n",
            "\n",
            "  [[6 7 8]\n",
            "   [9 2 4]]]]\n",
            "4\n"
          ]
        }
      ]
    },
    {
      "cell_type": "code",
      "source": [
        "#Higher Dimensional array\n",
        "\n",
        "arr6=  np.array([1,2,3,4,5], ndmin = 5)\n",
        "arr6"
      ],
      "metadata": {
        "colab": {
          "base_uri": "https://localhost:8080/"
        },
        "id": "BF1loThtjw6M",
        "outputId": "48da1328-07c4-4e5e-ff78-d062401f4cbf"
      },
      "execution_count": 9,
      "outputs": [
        {
          "output_type": "execute_result",
          "data": {
            "text/plain": [
              "array([[[[[1, 2, 3, 4, 5]]]]])"
            ]
          },
          "metadata": {},
          "execution_count": 9
        }
      ]
    },
    {
      "cell_type": "code",
      "source": [
        "type(arr6)"
      ],
      "metadata": {
        "colab": {
          "base_uri": "https://localhost:8080/"
        },
        "id": "6y8hqtrIkE-q",
        "outputId": "64123f3e-d633-41dd-a7c6-0d906c52abf1"
      },
      "execution_count": 10,
      "outputs": [
        {
          "output_type": "execute_result",
          "data": {
            "text/plain": [
              "numpy.ndarray"
            ]
          },
          "metadata": {},
          "execution_count": 10
        }
      ]
    },
    {
      "cell_type": "code",
      "source": [
        "arr6.ndim"
      ],
      "metadata": {
        "colab": {
          "base_uri": "https://localhost:8080/"
        },
        "id": "K0IK9lDRkHdP",
        "outputId": "88e3e00b-f90e-4722-aee0-87124d0f312d"
      },
      "execution_count": 11,
      "outputs": [
        {
          "output_type": "execute_result",
          "data": {
            "text/plain": [
              "5"
            ]
          },
          "metadata": {},
          "execution_count": 11
        }
      ]
    },
    {
      "cell_type": "code",
      "source": [],
      "metadata": {
        "id": "F9byRJv5kOR9"
      },
      "execution_count": null,
      "outputs": []
    }
  ]
}